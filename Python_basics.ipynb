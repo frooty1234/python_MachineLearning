{
 "cells": [
  {
   "cell_type": "code",
   "execution_count": null,
   "id": "66892dcb",
   "metadata": {},
   "outputs": [],
   "source": [
    "1 - 1/3 + 1/5 - 1/7 - 1/9 + 1/11 "
   ]
  },
  {
   "cell_type": "code",
   "execution_count": 27,
   "id": "96c16cbe",
   "metadata": {},
   "outputs": [
    {
     "name": "stdout",
     "output_type": "stream",
     "text": [
      "1 \n",
      "1 -1/3 \n",
      "1 -1/3 +1/5 \n",
      "1 -1/3 +1/5 \n",
      "1 -1/3 +1/5 -1/7 \n",
      "1 -1/3 +1/5 -1/7 +1/9 \n",
      "1 -1/3 +1/5 -1/7 +1/9 \n",
      "1 -1/3 +1/5 -1/7 +1/9 -1/11 \n",
      "1 -1/3 +1/5 -1/7 +1/9 -1/11 +1/13 \n",
      "1 -1/3 +1/5 -1/7 +1/9 -1/11 +1/13 \n",
      "1 -1/3 +1/5 -1/7 +1/9 -1/11 +1/13 -1/15 \n",
      "1 -1/3 +1/5 -1/7 +1/9 -1/11 +1/13 -1/15 +1/17 \n",
      "1 -1/3 +1/5 -1/7 +1/9 -1/11 +1/13 -1/15 +1/17 \n",
      "1 -1/3 +1/5 -1/7 +1/9 -1/11 +1/13 -1/15 +1/17 -1/19 \n",
      "1 -1/3 +1/5 -1/7 +1/9 -1/11 +1/13 -1/15 +1/17 -1/19 +1/21 \n",
      "1 -1/3 +1/5 -1/7 +1/9 -1/11 +1/13 -1/15 +1/17 -1/19 +1/21 \n"
     ]
    }
   ],
   "source": [
    "seriesToPrint = \"\"\n",
    "numberToIncrement = 3\n",
    "Flag = True\n",
    "for i in range(1,7):\n",
    "    if i == 1:\n",
    "        seriesToPrint = \"1 \"\n",
    "    else:\n",
    "        if Flag:\n",
    "            seriesToPrint = seriesToPrint + \"-\" + str(1) + '/' + str(numberToIncrement) + ' '\n",
    "            numberToIncrement = numberToIncrement + 2\n",
    "            Flag = False\n",
    "            print(seriesToPrint)\n",
    "        if not Flag:\n",
    "            seriesToPrint =  seriesToPrint + \"+\" + str(1) + '/' + str(numberToIncrement) + ' '\n",
    "            numberToIncrement = numberToIncrement + 2\n",
    "            Flag = True\n",
    "            print(seriesToPrint)\n",
    "    print(seriesToPrint)\n",
    "            \n",
    "        \n",
    "        \n",
    "        "
   ]
  },
  {
   "cell_type": "code",
   "execution_count": null,
   "id": "81db5048",
   "metadata": {},
   "outputs": [],
   "source": [
    "1 \n",
    "01\n",
    "001\n",
    "0001\n",
    "00001"
   ]
  },
  {
   "cell_type": "code",
   "execution_count": 18,
   "id": "794b0bd0",
   "metadata": {},
   "outputs": [
    {
     "name": "stdout",
     "output_type": "stream",
     "text": [
      "1\n",
      "01\n",
      "001\n",
      "0001\n",
      "00001\n"
     ]
    }
   ],
   "source": [
    "for i in range(0,5):\n",
    "    print('0'*i + '1')"
   ]
  },
  {
   "cell_type": "code",
   "execution_count": 9,
   "id": "5ae3b6ed",
   "metadata": {},
   "outputs": [
    {
     "name": "stdout",
     "output_type": "stream",
     "text": [
      "-2\n"
     ]
    }
   ],
   "source": [
    "0112358 # fibonacci series"
   ]
  },
  {
   "cell_type": "code",
   "execution_count": null,
   "id": "942f618d",
   "metadata": {},
   "outputs": [],
   "source": [
    "lastnumber = 0\n",
    "last2ndNumber = 0\n",
    "for i in range(1,10):\n",
    "    if i = 1:\n",
    "        print \"0\"\n",
    "        lastnumber = 0\n",
    "    else if i == 2:\n",
    "        print \"1\"\n",
    "        last2ndNumber = \n",
    "    "
   ]
  },
  {
   "cell_type": "code",
   "execution_count": null,
   "id": "c9dad4b3",
   "metadata": {},
   "outputs": [],
   "source": [
    "#sorting without using sort function"
   ]
  },
  {
   "cell_type": "code",
   "execution_count": null,
   "id": "b6a81f9d",
   "metadata": {},
   "outputs": [],
   "source": [
    "a = [1,3,2,4]\n",
    "for "
   ]
  },
  {
   "cell_type": "code",
   "execution_count": 15,
   "id": "59eca7dc",
   "metadata": {},
   "outputs": [
    {
     "data": {
      "text/plain": [
       "matrix([[3]])"
      ]
     },
     "execution_count": 15,
     "metadata": {},
     "output_type": "execute_result"
    }
   ],
   "source": [
    "#print matrix of 3 dimention\n",
    "import numpy as np\n",
    "matrix = np.matrix(3)\n",
    "matrix"
   ]
  },
  {
   "cell_type": "code",
   "execution_count": 48,
   "id": "577ee326",
   "metadata": {},
   "outputs": [
    {
     "name": "stdout",
     "output_type": "stream",
     "text": [
      "[2, 4]\n",
      "['hello', 'hemalata']\n"
     ]
    }
   ],
   "source": [
    "# list comprehension\n",
    "\n",
    "\n",
    "# create list\n",
    "list1 = [1,2,3,4,5]\n",
    "# even numbers\n",
    "even = [x for x in list1 if x % 2 == 0 ] \n",
    "print( even)\n",
    "\n",
    "# multiple loop\n",
    "list2 = [\"hello this is santosh\",\" this is hemalata\", \" This is sonalee\" ]\n",
    "word =  [word for sentence in list2 for word in sentence.split()  if word[0] == 'h']\n",
    "print(word)\n"
   ]
  },
  {
   "cell_type": "code",
   "execution_count": 50,
   "id": "8eff4e78",
   "metadata": {},
   "outputs": [
    {
     "data": {
      "text/plain": [
       "{1: 1, 2: 4, 3: 9, 4: 16, 5: 25, 6: 36, 7: 49, 8: 64}"
      ]
     },
     "execution_count": 50,
     "metadata": {},
     "output_type": "execute_result"
    }
   ],
   "source": [
    "# Dictionary comprehension\n",
    "#{1: 1, 2: 4, 3: 9, 4: 16, 5: 25, 6: 36, 7: 49, 8: 64}\n",
    "\n",
    "newDict = { i:i**2 for i in range(1,9)}\n",
    "newDict"
   ]
  },
  {
   "cell_type": "code",
   "execution_count": 57,
   "id": "9ba3877c",
   "metadata": {},
   "outputs": [
    {
     "name": "stdout",
     "output_type": "stream",
     "text": [
      "<map object at 0x0000029EC3F376D0>\n",
      "[4, 16, 25]\n",
      "[125, 216, 64, 512, 729]\n",
      "['Ankur Narang', 'Avik Sarkar', 'Kiran R', 'Nitin Sareen']\n"
     ]
    }
   ],
   "source": [
    "# map\n",
    "first_list = [2, 4, 5]\n",
    "print(map(lambda x: x**2, first_list))\n",
    "print(list(map(lambda x: x**2, first_list)))\n",
    "\n",
    "\n",
    "second_list = [5,6,4,8,9] #[125, 216, 64, 512, 729]\n",
    "print(list(map(lambda x: x**3, second_list)))\n",
    "\n",
    "\n",
    "\n",
    "# input [ ['Ankur', 'Avik', 'Kiran', 'Nitin'], ['Narang', 'Sarkar', 'R', 'Sareen']]\n",
    "# output ['Ankur Narang', 'Avik Sarkar', 'Kiran R', 'Nitin Sareen']\n",
    "thirdlist= [ ['Ankur', 'Avik', 'Kiran', 'Nitin'], ['Narang', 'Sarkar', 'R', 'Sareen']]\n",
    "listname = thirdlist[0]\n",
    "listsurname = thirdlist[1]\n",
    "names = list(map(lambda x,y: x +\" \"+ y, listname,listsurname))\n",
    "print(names)"
   ]
  },
  {
   "cell_type": "code",
   "execution_count": 58,
   "id": "55d30d4f",
   "metadata": {},
   "outputs": [
    {
     "name": "stdout",
     "output_type": "stream",
     "text": [
      "['salsap']\n"
     ]
    }
   ],
   "source": [
    "#filter\n",
    "#You are given a list of strings such as input_list =  ['hdjk', 'salsap', 'sherpa'].\n",
    "#Extract a list of names that start with an ‘s’ and end with a ‘p’ (both 's' and 'p' are lowercase) in input_list.\n",
    "\n",
    "input_list =  ['hdjk', 'salsap', 'sherpa']\n",
    "filterData = lambda x: x[0] == 's' and x[-1] == 'p'\n",
    "sp = list(filter(filterData,input_list))\n",
    "print(sp)\n",
    "\n",
    "\n"
   ]
  },
  {
   "cell_type": "code",
   "execution_count": 65,
   "id": "cb755e58",
   "metadata": {},
   "outputs": [
    {
     "name": "stdout",
     "output_type": "stream",
     "text": [
      "I Love Python\n"
     ]
    },
    {
     "data": {
      "text/plain": [
       "89"
      ]
     },
     "execution_count": 65,
     "metadata": {},
     "output_type": "execute_result"
    }
   ],
   "source": [
    "# reduce\n",
    "#Using the Reduce function, concatenate a list of words in input_list, and print the output as a string.\n",
    "#If input_list = ['I','Love','Python'], the output should be the string 'I Love Python'.\n",
    "\n",
    "from functools import reduce\n",
    "\n",
    "#write your code here.\n",
    "input_list = ['I','Love','Python']\n",
    "string1 = reduce(lambda x,y : x +\" \"+ y ,input_list)\n",
    "\n",
    "print(string1)\n",
    "\n",
    "\n",
    "#You are given a list of numbers such as input_list = [31, 63, 76, 89]. Find and print the largest number in input_list using the reduce() function.\n",
    "\n",
    "input_list3 = [31, 63, 76, 89]\n",
    "greater = reduce(lambda x,y: x if x > y else y ,input_list3 )\n",
    "greater"
   ]
  },
  {
   "cell_type": "code",
   "execution_count": null,
   "id": "872989cb",
   "metadata": {},
   "outputs": [],
   "source": [
    "# list to tuple conversion"
   ]
  },
  {
   "cell_type": "code",
   "execution_count": 66,
   "id": "4aef4085",
   "metadata": {},
   "outputs": [
    {
     "name": "stdout",
     "output_type": "stream",
     "text": [
      "[2, 5, 9, 13]\n",
      "[16]\n",
      "[12, 15, 16]\n",
      "[3, 8, 14, 20]\n"
     ]
    }
   ],
   "source": [
    "# list to set conversion\n",
    "input_list= [[2, 5, 9, 12, 13, 15, 16, 17, 18, 19],[2, 4, 5, 6, 7, 9, 13, 16], [1, 2, 5, 9, 10, 11, 12, 13, 15]]\n",
    "C = input_list[0]\n",
    "F = input_list[1]\n",
    "H = input_list[2]\n",
    "\n",
    "# Write your code here\n",
    "cricket = set(C)\n",
    "football = set(F)\n",
    "Hockey = set(H)\n",
    "\n",
    "allThreeSport = list(cricket.intersection(football).intersection(Hockey))\n",
    "print(sorted(allThreeSport))\n",
    "\n",
    "cricketFootballNotHockey= list(cricket.intersection(football).difference(Hockey))\n",
    "print(sorted(cricketFootballNotHockey))\n",
    "\n",
    "cricketFootballNotHockey= cricket.intersection(football).difference(Hockey)\n",
    "cricketHockeyNotFootball= cricket.intersection(Hockey).difference(football)\n",
    "footballHockeyNotCricket= football.intersection(Hockey).difference(cricket)\n",
    "allClubed = list(cricketFootballNotHockey.union(cricketHockeyNotFootball).union(footballHockeyNotCricket))\n",
    "print(sorted(allClubed))\n",
    "\n",
    "\n",
    "allStudent = range(1,21)\n",
    "allStudents = set(allStudent)\n",
    "noneOfTheSport = list(allStudents.difference(cricket.union(football).union(Hockey)))\n",
    "print(sorted(noneOfTheSport))"
   ]
  },
  {
   "cell_type": "code",
   "execution_count": null,
   "id": "611f137f",
   "metadata": {},
   "outputs": [],
   "source": [
    "# lambda function\n",
    "\n",
    "#Lambda expressions are also another way of defining functions but with a difference. They aren't capable of multiple expressions and can only handle single expressions. The format of lambda statements is as follows:\n",
    "#function_name  = lambda <space>  input_parameters  :  output_parameters\n",
    "#Eg: \n",
    "join_by_comma = lambda x : ','.join(x)\n",
    "\n",
    "\n",
    "test = lambda x : True if (x > 10 and x < 20) else False\n",
    "greater = lambda a,b : a if (a > b) else b\n",
    "\n",
    "print(greater(a,b))\n"
   ]
  },
  {
   "cell_type": "code",
   "execution_count": null,
   "id": "ee803adb",
   "metadata": {},
   "outputs": [],
   "source": [
    "# apply function"
   ]
  },
  {
   "cell_type": "code",
   "execution_count": null,
   "id": "13b82a91",
   "metadata": {},
   "outputs": [],
   "source": [
    "# dictionary comprehension"
   ]
  },
  {
   "cell_type": "code",
   "execution_count": null,
   "id": "875d5945",
   "metadata": {},
   "outputs": [],
   "source": [
    "# list to dataframe"
   ]
  },
  {
   "cell_type": "code",
   "execution_count": null,
   "id": "311dbb7a",
   "metadata": {},
   "outputs": [],
   "source": [
    "# dict to dataframe"
   ]
  },
  {
   "cell_type": "code",
   "execution_count": null,
   "id": "34ad5aa2",
   "metadata": {},
   "outputs": [],
   "source": [
    "# for loop with two list \n",
    "# for loop with enumerate and zip"
   ]
  },
  {
   "cell_type": "code",
   "execution_count": null,
   "id": "c83c2d71",
   "metadata": {},
   "outputs": [],
   "source": [
    "# while loop"
   ]
  },
  {
   "cell_type": "code",
   "execution_count": null,
   "id": "23899f6b",
   "metadata": {},
   "outputs": [],
   "source": [
    "# NLP basic code\n",
    "    # read data\n",
    "    # remove unwanted characters\n",
    "    # convert to lower case\n",
    "    # stemming and lammetization\n",
    "    # create bag of words ( term document matrices)\n",
    "    # TF- IDF\n",
    "    # different similarity scores\n",
    "    # Word to vec conversion \n",
    "    # Gensin implementation\n",
    "    # POS tagging\n",
    "    # sentiment analysis using vader"
   ]
  },
  {
   "cell_type": "code",
   "execution_count": null,
   "id": "d3138591",
   "metadata": {},
   "outputs": [],
   "source": []
  },
  {
   "cell_type": "code",
   "execution_count": null,
   "id": "48a6d3b7",
   "metadata": {},
   "outputs": [],
   "source": []
  },
  {
   "cell_type": "code",
   "execution_count": null,
   "id": "1aec34e1",
   "metadata": {},
   "outputs": [],
   "source": []
  }
 ],
 "metadata": {
  "kernelspec": {
   "display_name": "Python 3",
   "language": "python",
   "name": "python3"
  },
  "language_info": {
   "codemirror_mode": {
    "name": "ipython",
    "version": 3
   },
   "file_extension": ".py",
   "mimetype": "text/x-python",
   "name": "python",
   "nbconvert_exporter": "python",
   "pygments_lexer": "ipython3",
   "version": "3.8.8"
  }
 },
 "nbformat": 4,
 "nbformat_minor": 5
}
